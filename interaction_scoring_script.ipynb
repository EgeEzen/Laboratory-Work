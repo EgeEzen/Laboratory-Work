{
 "cells": [
  {
   "cell_type": "code",
   "execution_count": 1,
   "id": "55f57aaa",
   "metadata": {},
   "outputs": [],
   "source": [
    "import os\n",
    "import glob\n",
    "\n",
    "file_location = os.path.join('*.pdb') #you can create your file_location with this, in this case it is not that needed\n",
    "\n",
    "file_names = glob.glob(file_location) #file names are extracted\n",
    "json_file_names = glob.glob('*.json')\n",
    "#print(file_names)\n",
    "#print(json_file_names)"
   ]
  },
  {
   "cell_type": "code",
   "execution_count": 2,
   "id": "29f3a9e4",
   "metadata": {},
   "outputs": [],
   "source": [
    "import prody\n",
    "#this function takes a file name (a pdb file name) and outputs 2 chains as pdb files and returns chain B name chain C names \n",
    "def separate_chains(f):\n",
    "    chain_B = prody.parsePDB(f,chain=\"B\")\n",
    "    chain_C = prody.parsePDB(f,chain=\"C\")\n",
    "    chain_B_name = 'chain_B_of_' + f\n",
    "    chain_C_name = 'chain_C_of_' + f\n",
    "    #from prody B and C chains are separated (AlphaFold always name them B and C!)\n",
    "    prody.writePDB(chain_B_name, chain_B)\n",
    "    prody.writePDB(chain_C_name, chain_C)\n",
    "    return chain_B_name, chain_C_name\n"
   ]
  },
  {
   "cell_type": "code",
   "execution_count": 3,
   "id": "5ace994a",
   "metadata": {},
   "outputs": [],
   "source": [
    "import freesasa\n",
    "\n",
    "def get_structure_dict(file_name):\n",
    "    \n",
    "    #freesasa gets the structure and after freesasa.calc function it returns a freesasa.Result object \n",
    "    structure = freesasa.Structure(file_name)\n",
    "    result = freesasa.calc(structure) #this is the freesasa.Result object\n",
    "\n",
    "    result_no_atoms = result.nAtoms() #this returns no of atoms in the result, int\n",
    "    #if you can print\n",
    "    \n",
    "    result_dict = result.residueAreas()#this gets SASA for all residues, returns a freesasa.ResidueArea object\n",
    "    #to reach a specific residue = result_dict[\"A\"][\"5\"], A is for chain, the other number is for residue!\n",
    "    \n",
    "    return result_dict\n"
   ]
  },
  {
   "cell_type": "code",
   "execution_count": 4,
   "id": "7a48f028",
   "metadata": {},
   "outputs": [],
   "source": [
    "#We can see the SASA of the first 10 residues with this function\n",
    "#for i in range(1,11):\n",
    "#    print(\"The residue \" + str(i) +\" gives the total SASA of: \" +str(result_dict[\"C\"][str(i)].total))"
   ]
  },
  {
   "cell_type": "code",
   "execution_count": 5,
   "id": "18108765",
   "metadata": {},
   "outputs": [],
   "source": [
    "def sasa_scoring(result_dict):\n",
    "    \n",
    "    #this function returns two lists & the total chain length, for each chain, SASA scores for each residue \n",
    "    #(they are from residue 1 to the end residue!)\n",
    "    \n",
    "    list_for_B = []\n",
    "    b_chain_length = 0\n",
    "    list_for_C = []\n",
    "    for i in range (1,10000):\n",
    "        try:\n",
    "            list_for_B.append(result_dict[\"B\"][str(i)].total)\n",
    "            b_chain_length = b_chain_length + 1 #this should be stored for the next steps\n",
    "        except:\n",
    "            break\n",
    "\n",
    "    for i in range (1,10000):\n",
    "        try:\n",
    "            list_for_C.append(result_dict[\"C\"][str(i)].total)\n",
    "        except:\n",
    "            break\n",
    "    \n",
    "    return(list_for_B, list_for_C,b_chain_length)"
   ]
  },
  {
   "cell_type": "code",
   "execution_count": 6,
   "id": "cb4b3951",
   "metadata": {},
   "outputs": [],
   "source": [
    "def interaction_site(list_for_B,list_for_C,b_chain_length,list_for_B_from_B, list_for_C_from_C):\n",
    "    #now let's try to find the interaction site!!\n",
    "    final_list_B = []\n",
    "    final_list_C = []\n",
    "    for i in range (0, len(list_for_B)):\n",
    "        final_list_B.append(list_for_B_from_B[i] - list_for_B[i])\n",
    "\n",
    "    for i in range (0, len(list_for_C)):\n",
    "        final_list_C.append(list_for_C_from_C[i] - list_for_C[i])\n",
    "\n",
    "\n",
    "    #we have to pick a treshold for this!\n",
    "    #!!!!! THRESHOLD IS PICKED AS 20, THIS CAN BE CHANGED !!!!!!\n",
    "    interaction_sites_for_C = []\n",
    "    for i in range (0, len(final_list_C)):\n",
    "        if(final_list_C[i] > 20):\n",
    "            interaction_sites_for_C.append(i+1)\n",
    "\n",
    "    interaction_sites_for_B = []\n",
    "    for i in range (0, len(final_list_B)):\n",
    "        if(final_list_B[i] > 20):\n",
    "            interaction_sites_for_B.append(i+1)\n",
    "    \n",
    "    #interaction sites for C should be updated because in JSON file the indexes are combined\n",
    "    #It goes like B -> 120th site, C starts from the 121st site to 344th site (instead of 1st to 224th site)\n",
    "    interaction_sites_for_C_modified = interaction_sites_for_C.copy()\n",
    "    \n",
    "    for i in range(len(interaction_sites_for_C_modified)):\n",
    "        interaction_sites_for_C_modified[i] = interaction_sites_for_C_modified[i] + b_chain_length -1\n",
    "    \n",
    "    return (interaction_sites_for_B, interaction_sites_for_C, interaction_sites_for_C_modified)"
   ]
  },
  {
   "cell_type": "code",
   "execution_count": 7,
   "id": "c52febbd",
   "metadata": {},
   "outputs": [],
   "source": [
    "import json\n",
    "\n",
    "def pae_value_generator(f1,interaction_sites_for_B,interaction_sites_for_C):\n",
    "    j = open(f1)\n",
    "    json_file = json.load(j) #a dictionary file is readed\n",
    "\n",
    "    #maximum pae value is already in the dictionary\n",
    "    max_pae_value = json_file['max_pae']\n",
    "\n",
    "    #pae_values is now the 'values' of the 'pae key', it is a 2D List that goes total_chain_length X total_chain_length\n",
    "    #pae_values[i][j] in here means that PAE(x,y) --> for every i there is a PAE value comparing the every other (+ itself) \n",
    "    pae_values = json_file['pae']\n",
    "\n",
    "    #this determines the min_pae_value, i don't know if the minimum is the pae_values[i][j], maybe it is even lower than that ? \n",
    "    min_pae_value = max_pae_value\n",
    "    for i in range(len(pae_values)):\n",
    "        for j in range(len(pae_values)):\n",
    "            min_pae_value = min(min_pae_value, pae_values[i][j])\n",
    "\n",
    "    #interaction site combinations (x,y) from interaction_sites_B & interaction_sites_C should be compared!\n",
    "    pae_score_total_B_length=0 #how many interaction combinations will be done, it should be stored\n",
    "    pae_score_total_B = 0 #storing the total pae scoring for B\n",
    "    for interaction_site_for_B in interaction_sites_for_B:\n",
    "        for interaction_site_for_C in interaction_sites_for_C:\n",
    "            pae_score_total_B = pae_score_total_B + pae_values[interaction_site_for_B][interaction_site_for_C] #this compares every B to every C\n",
    "            pae_score_total_B_length = pae_score_total_B_length + 1 #updates the interaction combination\n",
    "\n",
    "    #interaction site combinations (x,y) from interaction_sites_C & interaction_sites_B should be compared!\n",
    "    pae_score_total_C_length=0 #how many interaction combinations will be done, it should be stored\n",
    "    pae_score_total_C = 0 #storing the total pae scoring for C\n",
    "    for interaction_site_for_C in interaction_sites_for_C:\n",
    "        for interaction_site_for_B in interaction_sites_for_B:\n",
    "            pae_score_total_C = pae_score_total_C + pae_values[interaction_site_for_C][interaction_site_for_B] #this compares every C to every B\n",
    "            pae_score_total_C_length = pae_score_total_C_length + 1 #updates the interaction combination\n",
    "\n",
    "    #the final value then should be:\n",
    "    final_value = ((pae_score_total_B/pae_score_total_B_length) + (pae_score_total_C/pae_score_total_C_length)) / 2\n",
    "    return (min_pae_value, max_pae_value, final_value,pae_score_total_B/pae_score_total_B_length, pae_score_total_C/pae_score_total_C_length)"
   ]
  },
  
   "source": [
    "import pandas as pd\n",
    "\n",
    "i = 0\n",
    "interaction_scorings_df = pd.DataFrame(columns= ['Name','min_pae_value','max_pae_value','final_score','interaction_sites_for_first_chain','interaction_sites_for_second_chain','score_from_first_chain','score_from_second_chain'])\n",
    "for f in file_names:\n",
    "    chain_B_name, chain_C_name = separate_chains(f)#chains are separated and stored\n",
    "    result_dict = get_structure_dict(f)#the dimer structure is opened as freesasa result \n",
    "    result_dict_B = get_structure_dict(chain_B_name)#the monomer structure is opened as freesasa result (B chain)\n",
    "    result_dict_C = get_structure_dict(chain_C_name)#this is for C chain\n",
    "    list_for_B, list_for_C, b_chain_length = sasa_scoring(result_dict) #sasa scores for every residue of dimer structure is calculated\n",
    "    list_for_B_from_B ,should_be_empty_list_1 ,x= sasa_scoring(result_dict_B) #same for chain B monomer\n",
    "    should_be_empty_list_2 ,list_for_C_from_C,x = sasa_scoring(result_dict_C) #same for chain C monomer\n",
    "    interaction_sites_for_B, interaction_sites_for_C, interaction_sites_for_C_modified = interaction_site(list_for_B,list_for_C,b_chain_length,list_for_B_from_B, list_for_C_from_C)\n",
    "    #interaction sites for B and C are extraccted from interaction site function\n",
    "    min_pae_value, max_pae_value, final_value,score_for_B,score_for_C = pae_value_generator(json_file_names[i], interaction_sites_for_B, interaction_sites_for_C_modified)\n",
    "    #min, max and final pae values are extracted and put into a dataframe ->\n",
    "    interaction_scorings_df.loc[i] = [f,min_pae_value,max_pae_value,final_value,interaction_sites_for_B,interaction_sites_for_C,score_for_B,score_for_C]\n",
    "    i = i + 1#this is for both interaction_scorings data frame and json_filne_names\n",
    "    #note that json_file_names and file_names should go in a complementary manner (i didn't put additional code to ensure that they are)"
   ]
  },
  {
   "cell_type": "code",
   "execution_count": 10,
   "id": "4bd16e3b",
   "metadata": {},
   "outputs": [
    {
     "name": "stdout",
     "output_type": "stream",
     "text": [
      "                                               Name  min_pae_value  \\\n",
      "36  ZBTB1_ZBTB44_fbe17_unrelaxed_rank_1_model_4.pdb           0.75   \n",
      "21  ZBTB1_ZBTB30_2df9f_unrelaxed_rank_1_model_3.pdb           0.75   \n",
      "\n",
      "    max_pae_value  final_score  \\\n",
      "36          31.75     1.803873   \n",
      "21          31.75     2.355362   \n",
      "\n",
      "                    interaction_sites_for_first_chain  \\\n",
      "36  [6, 7, 9, 10, 11, 13, 14, 17, 22, 23, 40, 43, ...   \n",
      "21  [6, 7, 10, 11, 14, 17, 22, 23, 40, 43, 44, 50,...   \n",
      "\n",
      "                   interaction_sites_for_second_chain  score_from_first_chain  \\\n",
      "36  [13, 14, 15, 16, 17, 18, 20, 21, 24, 29, 30, 4...                1.876667   \n",
      "21  [28, 29, 30, 31, 32, 33, 35, 36, 39, 44, 45, 6...                2.806875   \n",
      "\n",
      "    score_from_second_chain  \n",
      "36                 1.731080  \n",
      "21                 1.903849  \n"
     ]
    }
   ],
   "source": [
    "interaction_scorings_df = interaction_scorings_df.sort_values(\"final_score\") #they are sorted by final_score with ascending manner\n",
    "print(interaction_scorings_df.head(2))\n",
    "interaction_scorings_df.to_csv('interaction_scorings.csv',index=False) #interaction_scoring_df is saved"
   ]
  },
  {
   "cell_type": "code",
   "execution_count": 12,
   "id": "3bf1d981",
   "metadata": {},
   "outputs": [
    {
     "name": "stdout",
     "output_type": "stream",
     "text": [
      "            Name  min_pae_value  max_pae_value  final_score  \\\n",
      "0  ZBTB1_ZBTB44_           0.75          31.75     1.803873   \n",
      "1  ZBTB1_ZBTB30_           0.75          31.75     2.355362   \n",
      "\n",
      "                   interaction_sites_for_first_chain  \\\n",
      "0  [6, 7, 9, 10, 11, 13, 14, 17, 22, 23, 40, 43, ...   \n",
      "1  [6, 7, 10, 11, 14, 17, 22, 23, 40, 43, 44, 50,...   \n",
      "\n",
      "                  interaction_sites_for_second_chain  score_from_first_chain  \\\n",
      "0  [13, 14, 15, 16, 17, 18, 20, 21, 24, 29, 30, 4...                1.876667   \n",
      "1  [28, 29, 30, 31, 32, 33, 35, 36, 39, 44, 45, 6...                2.806875   \n",
      "\n",
      "   score_from_second_chain  \n",
      "0                 1.731080  \n",
      "1                 1.903849  \n"
     ]
    }
   ],
   "source": [
    "#This part is just to change the 'Name' column of interaction_scorings_df into more readable format\n",
    "\n",
    "#after you perform all the tasks above you can read the dataframe that you saved without running them again\n",
    "import pandas as pd\n",
    "import re\n",
    "\n",
    "interaction_scorings_df = pd.read_csv('interaction_scorings.csv')\n",
    "\n",
    "for i in range(len(interaction_scorings_df.index)):\n",
    "    name = interaction_scorings_df.iloc[i,0] #store the name\n",
    "    match = re.search(r'ZBTB.{1,2}_ZBTB.{1,2}_',name) #search for the ZBTB protein names and only get that part\n",
    "    if match: #this match should work\n",
    "        interaction_scorings_df.iloc[i,0] = match.group() #store the new name\n",
    "    else: #if it doesn't work, print Something is wrong and break\n",
    "        raise TypeError(\"Match is not found.\")\n",
    "        break\n",
    "        \n",
    "print(interaction_scorings_df.head(2)) #display it\n",
    "#interaction_scorings_df.to_csv('interaction_scorings.csv',index=False) #interaction_scoring_df is saved"
   ]
  },
  {
   "cell_type": "code",
   "execution_count": 14,
   "id": "ddfbace2",
   "metadata": {},
   "outputs": [
    {
     "name": "stdout",
     "output_type": "stream",
     "text": [
      "           Name    Values\n",
      "0  ZBTB1 Dimers  1.803873\n",
      "1  ZBTB1 Dimers  2.355362\n",
      "            Name     Values\n",
      "96  ZBTB2 Dimers   8.765584\n",
      "97  ZBTB2 Dimers  13.197303\n"
     ]
    }
   ],
   "source": [
    "#This part is only to compare ZBTB1 combinations and ZBTB2 combinations \n",
    "\n",
    "#empty lists are created\n",
    "ZBTB1_final_scores = [] \n",
    "ZBTB2_final_scores = []\n",
    "\n",
    "for i in range(len(interaction_scorings_df.index)):\n",
    "    name = interaction_scorings_df.iloc[i,0]\n",
    "    match = re.search(r'ZBTB1_',name) #get the ZBTB1 combinations\n",
    "    match1 = re.search(r'ZBTB2_',name) #get the ZBTB2 combinations\n",
    "    if match: #not all will match!\n",
    "        ZBTB1_final_scores.append(interaction_scorings_df.iloc[i,3])\n",
    "    elif match1:\n",
    "        ZBTB2_final_scores.append(interaction_scorings_df.iloc[i,3])\n",
    "    \n",
    "#In order to create histogram two dataframes will be created then to be concatenated\n",
    "#name lists are created\n",
    "ZBTB1_name=[]\n",
    "for i in ZBTB1_final_scores:\n",
    "    ZBTB1_name.append(\"ZBTB1 Dimers\")\n",
    "ZBTB2_name=[]\n",
    "for i in ZBTB2_final_scores:\n",
    "    ZBTB2_name.append(\"ZBTB2 Dimers\")\n",
    "#dataframes are created\n",
    "ZBTB1_df = pd.DataFrame(list(zip(ZBTB1_name, ZBTB1_final_scores)),\n",
    "               columns =['Name', 'Values'])\n",
    "ZBTB2_df = pd.DataFrame(list(zip(ZBTB2_name, ZBTB2_final_scores)),\n",
    "               columns =['Name', 'Values'])\n",
    "\n",
    "frames=[ZBTB1_df,ZBTB2_df] #frame of two dataframe\n",
    "ZBTB1_2_df = pd.concat(frames,ignore_index =True) #concatenated\n",
    "print(ZBTB1_2_df.head(2))\n",
    "print(ZBTB1_2_df.tail(2))"
   ]
  },
  {
   "cell_type": "code",
   "execution_count": 15,
   "id": "71e5e524",
   "metadata": {},
   "outputs": [
    {
     "name": "stdout",
     "output_type": "stream",
     "text": [
      "Freedman–Diaconis number of bins: 15\n"
     ]
    },
    {
     "data": {
      "image/png": "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\n",
      "text/plain": [
       "<Figure size 432x288 with 1 Axes>"
      ]
     },
     "metadata": {},
     "output_type": "display_data"
    }
   ],
   "source": [
    "#In here, a histogram is created (from all combination and all values) in order to get a sense of distribution \n",
    "\n",
    "import matplotlib.pyplot as plt\n",
    "import numpy as np\n",
    "import seaborn as sns\n",
    "import pandas as pd \n",
    "\n",
    "interaction_scorings_df = pd.read_csv('interaction_scorings.csv')\n",
    "\n",
    "#now we are getting the final_scores as list\n",
    "final_score_list = interaction_scorings_df['final_score'].to_numpy()\n",
    "\n",
    "#to calculate the number of 'appropiate' bins Freedman–Diaconis rule is used\n",
    "q25, q75 = np.percentile(final_score_list, [25, 75])\n",
    "bin_width = 2 * (q75 - q25) * len(final_score_list) ** (-1/3)\n",
    "bins = round((final_score_list.max() - final_score_list.min()) / bin_width)\n",
    "\n",
    "print(\"Freedman–Diaconis number of bins:\", bins)\n",
    "\n",
    "sns.set_style('darkgrid') \n",
    "\n",
    "g=sns.histplot(final_score_list, bins=bins, kde=True) #histogram with kde\n",
    "g.set_title('Interaction Scores for Predicted ZBTB Dimers')\n",
    "g.set(ylabel = \"Dimers\", xlabel = \"PAE Scores\")\n",
    "\n",
    "plt.savefig(\"histogram_for_interaction_scores.jpg\",dpi = 500)"
   ]
  },
  {
   "cell_type": "code",
   "execution_count": 16,
   "id": "ac9df9a4",
   "metadata": {},
   "outputs": [
    {
     "data": {
      "image/png": "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\n",
      "text/plain": [
       "<Figure size 432x288 with 1 Axes>"
      ]
     },
     "metadata": {},
     "output_type": "display_data"
    }
   ],
   "source": [
    "#Same as the previous cell, this time only ZBTB1 and ZBTB2 dimers are compared\n",
    "\n",
    "g1 = sns.histplot(data=ZBTB1_2_df, x=\"Values\", hue=\"Name\",kde = True) #from the dataframe hue is picked (ZBTB1 or 2 dimers)\n",
    "g1.set_title('Interaction Scores for Predicted ZBTB1 & ZBTB2 Dimers')\n",
    "g1.set(ylabel = \"Dimers\", xlabel = \"PAE Scores\")\n",
    "\n",
    "plt.savefig(\"histogram_for_interaction_scores_for_ZBTB1_2.jpg\",dpi = 500)"
   ]
  }
 ],
 "metadata": {
  "kernelspec": {
   "display_name": "Python 3 (ipykernel)",
   "language": "python",
   "name": "python3"
  },
  "language_info": {
   "codemirror_mode": {
    "name": "ipython",
    "version": 3
   },
   "file_extension": ".py",
   "mimetype": "text/x-python",
   "name": "python",
   "nbconvert_exporter": "python",
   "pygments_lexer": "ipython3",
   "version": "3.9.12"
  }
 },
 "nbformat": 4,
 "nbformat_minor": 5
}
