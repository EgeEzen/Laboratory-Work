{
 "cells": [
  {
   "cell_type": "code",
   "execution_count": 1,
   "id": "0ebf3db6",
   "metadata": {},
   "outputs": [
    {
     "name": "stdout",
     "output_type": "stream",
     "text": [
      "               wt1\n",
      "Name              \n",
      "OR4F5     0.000000\n",
      "OR4F29    0.000000\n",
      "OR4F16    0.000000\n",
      "SAMD11    6.816732\n",
      "NOC2L   168.954106\n"
     ]
    }
   ],
   "source": [
    "import pandas as pd \n",
    "import numpy as np\n",
    "import random as rd\n",
    "from sklearn.decomposition import PCA\n",
    "from sklearn import preprocessing\n",
    "import matplotlib.pyplot as plt\n",
    "plt.style.use('seaborn')\n",
    "\n",
    "#getting the data\n",
    "df1 = pd.read_csv(\"new-533_1 (GE).csv\")\n",
    "df2 = pd.read_csv(\"new-534_1 (GE).csv\")\n",
    "df3 = pd.read_csv(\"V300032999_L3_HK500PLAvzqEAAIRAAPEI-535_1 (GE).csv\")\n",
    "\n",
    "df4 = pd.read_csv(\"V300029980_L3_HK500PLAvzqEAAARBAPEI-594_1 (GE).csv\")\n",
    "df5 = pd.read_csv(\"V300029980_L3_HK500PLAvzqEAABRBAPEI-595_1 (GE).csv\")\n",
    "df6 = pd.read_csv(\"V300032999_L3_HK500PLAvzqEAACRAAPEI-529_1 (GE).csv\")\n",
    "\n",
    "#slicing the dataframes to get only names and TPM values and setting the name as the index\n",
    "def slice_and_dice(df,name):\n",
    "    newdf = df.loc[:,[\"Name\",\"TPM\"]]\n",
    "    newdf = newdf.set_index(\"Name\")\n",
    "    newdf.rename(columns={\"TPM\":name},inplace =True)\n",
    "    return newdf\n",
    "\n",
    "ko1 = slice_and_dice(df1,\"ko1\")\n",
    "ko2 = slice_and_dice(df2,\"ko2\")\n",
    "ko3 = slice_and_dice(df3,\"ko3\")\n",
    "\n",
    "wt1 = slice_and_dice(df4,\"wt1\")\n",
    "wt2 = slice_and_dice(df5,\"wt2\")\n",
    "wt3 = slice_and_dice(df6,\"wt3\")\n",
    "\n",
    "print (wt1.head())"
   ]
  },
  {
   "cell_type": "code",
   "execution_count": 2,
   "id": "bee08fe9",
   "metadata": {},
   "outputs": [
    {
     "name": "stdout",
     "output_type": "stream",
     "text": [
      "21486\n",
      "17021\n",
      "                wt1         wt2         wt3         ko1         ko2  \\\n",
      "Name                                                                  \n",
      "OR4F29     0.000000    0.177373    0.151052    0.164572    0.000000   \n",
      "SAMD11     6.816732    5.748731   10.029313   11.445544    9.705910   \n",
      "NOC2L    168.954106  179.060069  176.734595  161.674257  144.185925   \n",
      "KLHL17    28.794226   32.311971   47.988202   30.706806   30.001990   \n",
      "PLEKHN1    4.048170    4.536665    5.466384    2.955434    2.856523   \n",
      "\n",
      "                ko3  \n",
      "Name                 \n",
      "OR4F29     0.000000  \n",
      "SAMD11     6.047284  \n",
      "NOC2L    177.033294  \n",
      "KLHL17    27.851240  \n",
      "PLEKHN1    2.491058  \n"
     ]
    }
   ],
   "source": [
    "#Merging time (inner merge, only those that have 2 of them!) - I hated this code, there should be another way ?\n",
    "data = pd.merge(wt1, wt2, left_index=True, right_index=True)\n",
    "data = pd.merge(data,wt3,left_index=True, right_index=True)\n",
    "temp_data = pd.merge(ko1,ko2,left_index=True, right_index=True)\n",
    "data = pd.merge(data,temp_data,left_index=True, right_index=True)\n",
    "data = pd.merge(data,ko3,left_index=True, right_index=True)\n",
    "\n",
    "x, y = data.shape\n",
    "print(x)\n",
    "\n",
    "#getting rid of genes that counted 0 (for all samples!)\n",
    "data[\"sum\"] = data[\"wt1\"] + data[\"wt2\"] + data[\"wt3\"] + data[\"ko1\"] + data[\"ko2\"] + data[\"ko3\"]\n",
    "data = data.loc[data[\"sum\"] != 0]\n",
    "del data[\"sum\"]\n",
    "\n",
    "x, y = data.shape\n",
    "print(x)\n",
    "\n",
    "print(data.head())"
   ]
  },
  {
   "cell_type": "code",
   "execution_count": 3,
   "id": "d33b75e5",
   "metadata": {},
   "outputs": [
    {
     "data": {
      "image/png": "[encoded data removed]",
      "text/plain": [
       "<Figure size 432x360 with 1 Axes>"
      ]
     },
     "metadata": {},
     "output_type": "display_data"
    }
   ],
   "source": [
    "#avg value of genes are 0 and the sd is 1, now their eukladiand distance gives 1\n",
    "scaled_data = preprocessing.scale(data.T)\n",
    "\n",
    "#now we create an empty PCA object\n",
    "pca = PCA()\n",
    "\n",
    "#put our scaled data into this (only mathematical part)\n",
    "pca.fit(scaled_data)\n",
    "\n",
    "#generate coordinates for the data (for visualization) \n",
    "pca_data =pca.transform(scaled_data)\n",
    "\n",
    "#calculates the variance for each Principal Component and rounds them up (in percentage)\n",
    "per_var = np.round(pca.explained_variance_ratio_*100,decimals=1)\n",
    "\n",
    "#these are just for scree plot\n",
    "\n",
    "labels = [\"PC\"+str(i) for i in range (1,len(per_var)+1)]\n",
    "\n",
    "\n",
    "fig = plt.figure(figsize =[6, 5])\n",
    "plt.bar(x=range(1, len(per_var)+1), height = per_var,tick_label =labels )\n",
    "\n",
    "for i, v in enumerate(per_var):\n",
    "    plt.text(i+1 - 0.25, v + 0.5, (str(v)+ '%'))\n",
    "    \n",
    "plt.ylabel('Percentage of Explained Variance')\n",
    "plt.xlabel('Principal Components')\n",
    "plt.title(\"Scree Plot\")\n",
    "plt.show()\n",
    "\n",
    "#fig.savefig(\"scree_PATZ1.jpg\",dpi =200)"
   ]
  },
  {
   "cell_type": "code",
   "execution_count": 4,
   "id": "4e819fca",
   "metadata": {},
   "outputs": [
    {
     "data": {
      "text/html": [
       "<div>\n",
       "<style scoped>\n",
       "    .dataframe tbody tr th:only-of-type {\n",
       "        vertical-align: middle;\n",
       "    }\n",
       "\n",
       "    .dataframe tbody tr th {\n",
       "        vertical-align: top;\n",
       "    }\n",
       "\n",
       "    .dataframe thead th {\n",
       "        text-align: right;\n",
       "    }\n",
       "</style>\n",
       "<table border=\"1\" class=\"dataframe\">\n",
       "  <thead>\n",
       "    <tr style=\"text-align: right;\">\n",
       "      <th></th>\n",
       "      <th>PC1</th>\n",
       "      <th>PC2</th>\n",
       "      <th>PC3</th>\n",
       "      <th>PC4</th>\n",
       "      <th>PC5</th>\n",
       "      <th>PC6</th>\n",
       "    </tr>\n",
       "  </thead>\n",
       "  <tbody>\n",
       "    <tr>\n",
       "      <th>wt1</th>\n",
       "      <td>-116.030767</td>\n",
       "      <td>34.084208</td>\n",
       "      <td>-44.031837</td>\n",
       "      <td>-32.409901</td>\n",
       "      <td>-46.063549</td>\n",
       "      <td>-4.043293e-14</td>\n",
       "    </tr>\n",
       "    <tr>\n",
       "      <th>wt2</th>\n",
       "      <td>-87.939015</td>\n",
       "      <td>40.782154</td>\n",
       "      <td>35.984761</td>\n",
       "      <td>36.631706</td>\n",
       "      <td>58.711001</td>\n",
       "      <td>-9.092033e-14</td>\n",
       "    </tr>\n",
       "    <tr>\n",
       "      <th>wt3</th>\n",
       "      <td>117.335737</td>\n",
       "      <td>107.771807</td>\n",
       "      <td>8.123127</td>\n",
       "      <td>-8.586967</td>\n",
       "      <td>-9.270876</td>\n",
       "      <td>7.813195e-14</td>\n",
       "    </tr>\n",
       "    <tr>\n",
       "      <th>ko1</th>\n",
       "      <td>35.211821</td>\n",
       "      <td>-53.723847</td>\n",
       "      <td>-37.343464</td>\n",
       "      <td>83.289758</td>\n",
       "      <td>-23.960688</td>\n",
       "      <td>-8.673617e-15</td>\n",
       "    </tr>\n",
       "    <tr>\n",
       "      <th>ko2</th>\n",
       "      <td>42.745025</td>\n",
       "      <td>-61.465483</td>\n",
       "      <td>-55.951967</td>\n",
       "      <td>-52.236120</td>\n",
       "      <td>46.116556</td>\n",
       "      <td>2.843906e-14</td>\n",
       "    </tr>\n",
       "    <tr>\n",
       "      <th>ko3</th>\n",
       "      <td>8.677200</td>\n",
       "      <td>-67.448839</td>\n",
       "      <td>93.219380</td>\n",
       "      <td>-26.688476</td>\n",
       "      <td>-25.532444</td>\n",
       "      <td>4.138356e-14</td>\n",
       "    </tr>\n",
       "  </tbody>\n",
       "</table>\n",
       "</div>"
      ],
      "text/plain": [
       "            PC1         PC2        PC3        PC4        PC5           PC6\n",
       "wt1 -116.030767   34.084208 -44.031837 -32.409901 -46.063549 -4.043293e-14\n",
       "wt2  -87.939015   40.782154  35.984761  36.631706  58.711001 -9.092033e-14\n",
       "wt3  117.335737  107.771807   8.123127  -8.586967  -9.270876  7.813195e-14\n",
       "ko1   35.211821  -53.723847 -37.343464  83.289758 -23.960688 -8.673617e-15\n",
       "ko2   42.745025  -61.465483 -55.951967 -52.236120  46.116556  2.843906e-14\n",
       "ko3    8.677200  -67.448839  93.219380 -26.688476 -25.532444  4.138356e-14"
      ]
     },
     "execution_count": 4,
     "metadata": {},
     "output_type": "execute_result"
    }
   ],
   "source": [
    "wt = [\"wt\" + str(i) for i in range (1,4)] \n",
    "ko = [\"ko\" + str(i) for i in range (1,4)] \n",
    "\n",
    "#now to draw the PCA plot itself\n",
    "#create a new dataframe to have the PCA axis (for all PCA 1 to 10)\n",
    "pca_df = pd.DataFrame(pca_data, index =[*wt, *ko],columns=labels)\n",
    "pca_df.head(6)"
   ]
  },
  {
   "cell_type": "code",
   "execution_count": 13,
   "id": "cf75ec07",
   "metadata": {},
   "outputs": [
    {
     "data": {
      "image/png": "[encoded data removed]",
      "text/plain": [
       "<Figure size 432x360 with 1 Axes>"
      ]
     },
     "metadata": {},
     "output_type": "display_data"
    }
   ],
   "source": [
    "fig1= plt.figure(figsize =[6, 5])\n",
    "plt.scatter(pca_df[\"PC1\"], pca_df[\"PC2\"])\n",
    "plt.title(\"PCA Graph of PATZ1-KO\")\n",
    "plt.xlabel('PC1 - {0}%'.format(per_var[0]))\n",
    "plt.ylabel('PC2 - {0}%'.format(per_var[1]))\n",
    "\n",
    "for sample in pca_df.index:\n",
    "    plt.annotate(sample,(pca_df[\"PC1\"].loc[sample],pca_df[\"PC2\"].loc[sample]))\n",
    "    \n",
    "plt.show()\n",
    "\n",
    "#fig1.savefig(\"PCA_PATZ1.jpg\",dpi =200)"
   ]
  },
  {
   "cell_type": "code",
   "execution_count": 12,
   "id": "c6be7c4f",
   "metadata": {},
   "outputs": [
    {
     "data": {
      "text/plain": [
       "Name\n",
       "RNGTT                  -0.012546\n",
       "EXD2                   -0.012533\n",
       "ARFIP1                 -0.012531\n",
       "AGPS                   -0.012521\n",
       "KLHL23                 -0.012521\n",
       "CCNC                   -0.012519\n",
       "CLCN3                  -0.012518\n",
       "RNF139                 -0.012518\n",
       "RCBTB1                 -0.012514\n",
       "RAB10                  -0.012514\n",
       "MORC3                  -0.012512\n",
       "NEK4                   -0.012512\n",
       "SOWAHC                 -0.012512\n",
       "IKZF5                  -0.012511\n",
       "HACD3                  -0.012511\n",
       "MAP4K3                 -0.012508\n",
       "TM9SF2                 -0.012507\n",
       "CLPX                   -0.012504\n",
       "SARAF                  -0.012503\n",
       "ATF1                   -0.012502\n",
       "MTDH                   -0.012501\n",
       "SETD2                  -0.012501\n",
       "CAMSAP2                -0.012500\n",
       "TEX10                  -0.012499\n",
       "YWHAZ                  -0.012497\n",
       "STK26                  -0.012496\n",
       "TCEA1                  -0.012495\n",
       "SLC25A30               -0.012494\n",
       "PEX13                  -0.012494\n",
       "PALS2                  -0.012494\n",
       "gene:ENSG00000259316   -0.012490\n",
       "VIRMA                  -0.012487\n",
       "LEMD3                  -0.012485\n",
       "YTHDF3                 -0.012484\n",
       "NUS1                   -0.012483\n",
       "WAPL                   -0.012481\n",
       "DCUN1D1                -0.012480\n",
       "MTCP1                  -0.012480\n",
       "ARL1                   -0.012480\n",
       "PTPN11                 -0.012479\n",
       "SRPK1                  -0.012476\n",
       "C5orf22                -0.012476\n",
       "TPD52                  -0.012475\n",
       "WASL                   -0.012475\n",
       "C6orf62                -0.012474\n",
       "TLK2                   -0.012473\n",
       "CPSF2                  -0.012472\n",
       "RAB14                  -0.012471\n",
       "RANBP2                 -0.012469\n",
       "GSKIP                  -0.012468\n",
       "dtype: float64"
      ]
     },
     "metadata": {},
     "output_type": "display_data"
    }
   ],
   "source": [
    "#loading score\n",
    "loading_scores = pd.Series(pca.components_[0], index=data.index)\n",
    "sorted_loading_scores = loading_scores.abs().sort_values(ascending=False)\n",
    "\n",
    "top_50 = sorted_loading_scores[0:50].index.values\n",
    "display(loading_scores[top_50])\n",
    "\n",
    "#saving\n",
    "#pd.DataFrame(top_50).to_csv(\"top_50_from_PATZ1.csv\",index = None, header =None)"
   ]
  },
  {
   "cell_type": "code",
   "execution_count": null,
   "id": "2f31e42c",
   "metadata": {},
   "outputs": [],
   "source": []
  }
 ],
 "metadata": {
  "kernelspec": {
   "display_name": "Python 3 (ipykernel)",
   "language": "python",
   "name": "python3"
  },
  "language_info": {
   "codemirror_mode": {
    "name": "ipython",
    "version": 3
   },
   "file_extension": ".py",
   "mimetype": "text/x-python",
   "name": "python",
   "nbconvert_exporter": "python",
   "pygments_lexer": "ipython3",
   "version": "3.9.12"
  }
 },
 "nbformat": 4,
 "nbformat_minor": 5
}
